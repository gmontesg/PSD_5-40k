{
 "cells": [
  {
   "cell_type": "markdown",
   "id": "5da77642",
   "metadata": {},
   "source": [
    "# List of School Districts by Enrollment, Demographics\n",
    "Data from [NCES](https://nces.ed.gov/ccd/districtsearch/) with number of students > 50000"
   ]
  },
  {
   "cell_type": "code",
   "execution_count": 1,
   "id": "8e9f9216",
   "metadata": {},
   "outputs": [
    {
     "name": "stdout",
     "output_type": "stream",
     "text": [
      "ncesdata_DBB82454.csv      ncesdata_DBB82454.numbers\r\n",
      "ncesdata_DBB82454.html     ncesdata_DBB82454.xls\r\n"
     ]
    }
   ],
   "source": [
    "ls data"
   ]
  },
  {
   "cell_type": "code",
   "execution_count": 20,
   "id": "f0a40546",
   "metadata": {},
   "outputs": [],
   "source": [
    "import pandas as pd\n",
    "#from bs4 import BeautifulSoup\n",
    "import numpy as np"
   ]
  },
  {
   "cell_type": "raw",
   "id": "8681aff5",
   "metadata": {},
   "source": [
    "#scraping\n",
    "\n",
    "infile='data/ncesdata_DBB82454.xls'\n",
    "openf = open(infile, \"r\",encoding = 'latin1')\n",
    "contents = openf.read()\n",
    "text = BeautifulSoup(contents, 'lxml')\n",
    "print(text.body.prettify())"
   ]
  },
  {
   "cell_type": "code",
   "execution_count": 14,
   "id": "e1268bb0",
   "metadata": {
    "scrolled": false
   },
   "outputs": [
    {
     "name": "stdout",
     "output_type": "stream",
     "text": [
      "<class 'pandas.core.frame.DataFrame'>\n",
      "RangeIndex: 1956 entries, 0 to 1955\n",
      "Data columns (total 17 columns):\n",
      " #   Column                 Non-Null Count  Dtype  \n",
      "---  ------                 --------------  -----  \n",
      " 0   NCES District ID       1956 non-null   int64  \n",
      " 1   State District ID      1956 non-null   object \n",
      " 2   District Name          1956 non-null   object \n",
      " 3   County Name            1956 non-null   object \n",
      " 4   Street Address         1956 non-null   object \n",
      " 5   City                   1956 non-null   object \n",
      " 6   State                  1956 non-null   object \n",
      " 7   ZIP                    1956 non-null   int64  \n",
      " 8   ZIP 4-digit            1200 non-null   float64\n",
      " 9   Phone                  1956 non-null   object \n",
      " 10  Students               1956 non-null   float64\n",
      " 11  Teachers               1956 non-null   object \n",
      " 12  Schools                1956 non-null   float64\n",
      " 13  Locale Code            1956 non-null   int64  \n",
      " 14  Locale                 1956 non-null   object \n",
      " 15  Student Teacher Ratio  1956 non-null   object \n",
      " 16  Type                   1952 non-null   object \n",
      "dtypes: float64(3), int64(3), object(11)\n",
      "memory usage: 259.9+ KB\n",
      "None\n"
     ]
    },
    {
     "data": {
      "text/html": [
       "<div>\n",
       "<style scoped>\n",
       "    .dataframe tbody tr th:only-of-type {\n",
       "        vertical-align: middle;\n",
       "    }\n",
       "\n",
       "    .dataframe tbody tr th {\n",
       "        vertical-align: top;\n",
       "    }\n",
       "\n",
       "    .dataframe thead th {\n",
       "        text-align: right;\n",
       "    }\n",
       "</style>\n",
       "<table border=\"1\" class=\"dataframe\">\n",
       "  <thead>\n",
       "    <tr style=\"text-align: right;\">\n",
       "      <th></th>\n",
       "      <th>NCES District ID</th>\n",
       "      <th>State District ID</th>\n",
       "      <th>District Name</th>\n",
       "      <th>County Name</th>\n",
       "      <th>Street Address</th>\n",
       "      <th>City</th>\n",
       "      <th>State</th>\n",
       "      <th>ZIP</th>\n",
       "      <th>ZIP 4-digit</th>\n",
       "      <th>Phone</th>\n",
       "      <th>Students</th>\n",
       "      <th>Teachers</th>\n",
       "      <th>Schools</th>\n",
       "      <th>Locale Code</th>\n",
       "      <th>Locale</th>\n",
       "      <th>Student Teacher Ratio</th>\n",
       "      <th>Type</th>\n",
       "    </tr>\n",
       "  </thead>\n",
       "  <tbody>\n",
       "    <tr>\n",
       "      <th>0</th>\n",
       "      <td>601620</td>\n",
       "      <td>CA-1964212</td>\n",
       "      <td>ABC Unified</td>\n",
       "      <td>Los Angeles County</td>\n",
       "      <td>16700 Norwalk Blvd.</td>\n",
       "      <td>Cerritos</td>\n",
       "      <td>CA</td>\n",
       "      <td>90703</td>\n",
       "      <td>1838.0</td>\n",
       "      <td>(562)926-5566</td>\n",
       "      <td>18889.0</td>\n",
       "      <td>842.75000</td>\n",
       "      <td>30.0</td>\n",
       "      <td>21</td>\n",
       "      <td>Suburb: Large</td>\n",
       "      <td>22.41000000</td>\n",
       "      <td>Regular School District</td>\n",
       "    </tr>\n",
       "    <tr>\n",
       "      <th>1</th>\n",
       "      <td>4807440</td>\n",
       "      <td>TX-221901</td>\n",
       "      <td>ABILENE ISD</td>\n",
       "      <td>Taylor County</td>\n",
       "      <td>P O BOX 981</td>\n",
       "      <td>ABILENE</td>\n",
       "      <td>TX</td>\n",
       "      <td>79604</td>\n",
       "      <td>981.0</td>\n",
       "      <td>(325)677-1444</td>\n",
       "      <td>15426.0</td>\n",
       "      <td>1078.47000</td>\n",
       "      <td>29.0</td>\n",
       "      <td>12</td>\n",
       "      <td>City: Midsize</td>\n",
       "      <td>14.30000000</td>\n",
       "      <td>Regular School District</td>\n",
       "    </tr>\n",
       "    <tr>\n",
       "      <th>2</th>\n",
       "      <td>4202040</td>\n",
       "      <td>PA-123460302</td>\n",
       "      <td>Abington SD</td>\n",
       "      <td>Montgomery County</td>\n",
       "      <td>970 Highland Ave</td>\n",
       "      <td>Abington</td>\n",
       "      <td>PA</td>\n",
       "      <td>19001</td>\n",
       "      <td>NaN</td>\n",
       "      <td>(215)884-4700</td>\n",
       "      <td>8291.0</td>\n",
       "      <td>573.55000</td>\n",
       "      <td>9.0</td>\n",
       "      <td>21</td>\n",
       "      <td>Suburb: Large</td>\n",
       "      <td>14.46000000</td>\n",
       "      <td>Regular School District</td>\n",
       "    </tr>\n",
       "    <tr>\n",
       "      <th>3</th>\n",
       "      <td>400891</td>\n",
       "      <td>AZ-90878</td>\n",
       "      <td>Academy of Mathematics and Science South Inc. ...</td>\n",
       "      <td>Pima County</td>\n",
       "      <td>1557 W PRINCE RD</td>\n",
       "      <td>TUCSON</td>\n",
       "      <td>AZ</td>\n",
       "      <td>85705</td>\n",
       "      <td>3023.0</td>\n",
       "      <td>(520)293-2676</td>\n",
       "      <td>5724.0</td>\n",
       "      <td>–</td>\n",
       "      <td>6.0</td>\n",
       "      <td>11</td>\n",
       "      <td>City: Large</td>\n",
       "      <td>†</td>\n",
       "      <td>Other Education Agency</td>\n",
       "    </tr>\n",
       "    <tr>\n",
       "      <th>4</th>\n",
       "      <td>801920</td>\n",
       "      <td>CO-1040</td>\n",
       "      <td>Academy School District No. 20 in the county o...</td>\n",
       "      <td>El Paso County</td>\n",
       "      <td>1110 CHAPEL HILLS DRIVE</td>\n",
       "      <td>COLORADO SPRINGS</td>\n",
       "      <td>CO</td>\n",
       "      <td>80920</td>\n",
       "      <td>3923.0</td>\n",
       "      <td>(719)234-1200</td>\n",
       "      <td>26050.0</td>\n",
       "      <td>1597.88000</td>\n",
       "      <td>41.0</td>\n",
       "      <td>11</td>\n",
       "      <td>City: Large</td>\n",
       "      <td>16.30000000</td>\n",
       "      <td>Regular School District</td>\n",
       "    </tr>\n",
       "  </tbody>\n",
       "</table>\n",
       "</div>"
      ],
      "text/plain": [
       "   NCES District ID State District ID  \\\n",
       "0            601620        CA-1964212   \n",
       "1           4807440         TX-221901   \n",
       "2           4202040      PA-123460302   \n",
       "3            400891          AZ-90878   \n",
       "4            801920           CO-1040   \n",
       "\n",
       "                                       District Name         County Name  \\\n",
       "0                                        ABC Unified  Los Angeles County   \n",
       "1                                        ABILENE ISD       Taylor County   \n",
       "2                                        Abington SD   Montgomery County   \n",
       "3  Academy of Mathematics and Science South Inc. ...         Pima County   \n",
       "4  Academy School District No. 20 in the county o...      El Paso County   \n",
       "\n",
       "            Street Address              City State    ZIP  ZIP 4-digit  \\\n",
       "0      16700 Norwalk Blvd.          Cerritos    CA  90703       1838.0   \n",
       "1              P O BOX 981           ABILENE    TX  79604        981.0   \n",
       "2         970 Highland Ave          Abington    PA  19001          NaN   \n",
       "3         1557 W PRINCE RD            TUCSON    AZ  85705       3023.0   \n",
       "4  1110 CHAPEL HILLS DRIVE  COLORADO SPRINGS    CO  80920       3923.0   \n",
       "\n",
       "           Phone  Students    Teachers  Schools  Locale Code         Locale  \\\n",
       "0  (562)926-5566   18889.0   842.75000     30.0           21  Suburb: Large   \n",
       "1  (325)677-1444   15426.0  1078.47000     29.0           12  City: Midsize   \n",
       "2  (215)884-4700    8291.0   573.55000      9.0           21  Suburb: Large   \n",
       "3  (520)293-2676    5724.0           –      6.0           11    City: Large   \n",
       "4  (719)234-1200   26050.0  1597.88000     41.0           11    City: Large   \n",
       "\n",
       "  Student Teacher Ratio                     Type  \n",
       "0           22.41000000  Regular School District  \n",
       "1           14.30000000  Regular School District  \n",
       "2           14.46000000  Regular School District  \n",
       "3                     †   Other Education Agency  \n",
       "4           16.30000000  Regular School District  "
      ]
     },
     "execution_count": 14,
     "metadata": {},
     "output_type": "execute_result"
    }
   ],
   "source": [
    "infile='data/ncesdata_DBB82454.csv'\n",
    "dtype_dic={}#={'Students':'float64','Teachers':'float64','Schools':'float64','Student Teacher Ratio':'float64'}\n",
    "df=pd.read_csv(infile,dtype=dtype_dic)\n",
    "print(df.info())\n",
    "df.head()"
   ]
  },
  {
   "cell_type": "code",
   "execution_count": 91,
   "id": "7b6c14c7",
   "metadata": {},
   "outputs": [],
   "source": [
    "df=df[df['Students']<41000]"
   ]
  },
  {
   "cell_type": "markdown",
   "id": "1fb3106a",
   "metadata": {},
   "source": [
    "# Summary"
   ]
  },
  {
   "cell_type": "code",
   "execution_count": 92,
   "id": "9e9877f0",
   "metadata": {},
   "outputs": [
    {
     "data": {
      "text/plain": [
       "NCES District ID         1820\n",
       "State District ID        1820\n",
       "District Name            1801\n",
       "County Name               643\n",
       "Street Address           1801\n",
       "City                     1478\n",
       "State                      51\n",
       "ZIP                      1763\n",
       "ZIP 4-digit               996\n",
       "Phone                    1816\n",
       "Students                 1661\n",
       "Teachers                 1773\n",
       "Schools                    74\n",
       "Locale Code                12\n",
       "Locale                     12\n",
       "Student Teacher Ratio     957\n",
       "Type                        4\n",
       "dtype: int64"
      ]
     },
     "execution_count": 92,
     "metadata": {},
     "output_type": "execute_result"
    }
   ],
   "source": [
    "df.nunique()"
   ]
  },
  {
   "cell_type": "code",
   "execution_count": 93,
   "id": "6b5e779c",
   "metadata": {},
   "outputs": [
    {
     "data": {
      "text/html": [
       "<div>\n",
       "<style scoped>\n",
       "    .dataframe tbody tr th:only-of-type {\n",
       "        vertical-align: middle;\n",
       "    }\n",
       "\n",
       "    .dataframe tbody tr th {\n",
       "        vertical-align: top;\n",
       "    }\n",
       "\n",
       "    .dataframe thead th {\n",
       "        text-align: right;\n",
       "    }\n",
       "</style>\n",
       "<table border=\"1\" class=\"dataframe\">\n",
       "  <thead>\n",
       "    <tr style=\"text-align: right;\">\n",
       "      <th></th>\n",
       "      <th>NCES District ID</th>\n",
       "      <th>ZIP</th>\n",
       "      <th>ZIP 4-digit</th>\n",
       "      <th>Students</th>\n",
       "      <th>Schools</th>\n",
       "      <th>Locale Code</th>\n",
       "    </tr>\n",
       "  </thead>\n",
       "  <tbody>\n",
       "    <tr>\n",
       "      <th>count</th>\n",
       "      <td>1.820000e+03</td>\n",
       "      <td>1820.000000</td>\n",
       "      <td>1124.000000</td>\n",
       "      <td>1820.000000</td>\n",
       "      <td>1820.000000</td>\n",
       "      <td>1820.000000</td>\n",
       "    </tr>\n",
       "    <tr>\n",
       "      <th>mean</th>\n",
       "      <td>2.812920e+06</td>\n",
       "      <td>54630.515385</td>\n",
       "      <td>3434.010676</td>\n",
       "      <td>11913.798901</td>\n",
       "      <td>19.587363</td>\n",
       "      <td>21.951099</td>\n",
       "    </tr>\n",
       "    <tr>\n",
       "      <th>std</th>\n",
       "      <td>1.670819e+06</td>\n",
       "      <td>30150.489422</td>\n",
       "      <td>2383.738981</td>\n",
       "      <td>7749.702502</td>\n",
       "      <td>13.161848</td>\n",
       "      <td>9.149862</td>\n",
       "    </tr>\n",
       "    <tr>\n",
       "      <th>min</th>\n",
       "      <td>1.000050e+05</td>\n",
       "      <td>802.000000</td>\n",
       "      <td>1.000000</td>\n",
       "      <td>5003.000000</td>\n",
       "      <td>0.000000</td>\n",
       "      <td>11.000000</td>\n",
       "    </tr>\n",
       "    <tr>\n",
       "      <th>25%</th>\n",
       "      <td>1.201402e+06</td>\n",
       "      <td>29142.750000</td>\n",
       "      <td>1645.000000</td>\n",
       "      <td>6362.750000</td>\n",
       "      <td>11.000000</td>\n",
       "      <td>13.000000</td>\n",
       "    </tr>\n",
       "    <tr>\n",
       "      <th>50%</th>\n",
       "      <td>2.903155e+06</td>\n",
       "      <td>54982.000000</td>\n",
       "      <td>2968.500000</td>\n",
       "      <td>9000.500000</td>\n",
       "      <td>15.000000</td>\n",
       "      <td>21.000000</td>\n",
       "    </tr>\n",
       "    <tr>\n",
       "      <th>75%</th>\n",
       "      <td>4.216185e+06</td>\n",
       "      <td>82630.000000</td>\n",
       "      <td>4679.500000</td>\n",
       "      <td>14369.000000</td>\n",
       "      <td>24.000000</td>\n",
       "      <td>22.000000</td>\n",
       "    </tr>\n",
       "    <tr>\n",
       "      <th>max</th>\n",
       "      <td>7.800030e+06</td>\n",
       "      <td>99741.000000</td>\n",
       "      <td>9998.000000</td>\n",
       "      <td>40876.000000</td>\n",
       "      <td>103.000000</td>\n",
       "      <td>43.000000</td>\n",
       "    </tr>\n",
       "  </tbody>\n",
       "</table>\n",
       "</div>"
      ],
      "text/plain": [
       "       NCES District ID           ZIP  ZIP 4-digit      Students      Schools  \\\n",
       "count      1.820000e+03   1820.000000  1124.000000   1820.000000  1820.000000   \n",
       "mean       2.812920e+06  54630.515385  3434.010676  11913.798901    19.587363   \n",
       "std        1.670819e+06  30150.489422  2383.738981   7749.702502    13.161848   \n",
       "min        1.000050e+05    802.000000     1.000000   5003.000000     0.000000   \n",
       "25%        1.201402e+06  29142.750000  1645.000000   6362.750000    11.000000   \n",
       "50%        2.903155e+06  54982.000000  2968.500000   9000.500000    15.000000   \n",
       "75%        4.216185e+06  82630.000000  4679.500000  14369.000000    24.000000   \n",
       "max        7.800030e+06  99741.000000  9998.000000  40876.000000   103.000000   \n",
       "\n",
       "       Locale Code  \n",
       "count  1820.000000  \n",
       "mean     21.951099  \n",
       "std       9.149862  \n",
       "min      11.000000  \n",
       "25%      13.000000  \n",
       "50%      21.000000  \n",
       "75%      22.000000  \n",
       "max      43.000000  "
      ]
     },
     "execution_count": 93,
     "metadata": {},
     "output_type": "execute_result"
    }
   ],
   "source": [
    "df.describe()"
   ]
  },
  {
   "cell_type": "code",
   "execution_count": 16,
   "id": "e559a7b3",
   "metadata": {},
   "outputs": [],
   "source": [
    "## Cleanning "
   ]
  },
  {
   "cell_type": "code",
   "execution_count": 94,
   "id": "3b016e76",
   "metadata": {},
   "outputs": [
    {
     "name": "stdout",
     "output_type": "stream",
     "text": [
      "<class 'pandas.core.frame.DataFrame'>\n",
      "Int64Index: 1820 entries, 0 to 1955\n",
      "Data columns (total 6 columns):\n",
      " #   Column                 Non-Null Count  Dtype  \n",
      "---  ------                 --------------  -----  \n",
      " 0   NCES District ID       1820 non-null   int64  \n",
      " 1   State                  1820 non-null   object \n",
      " 2   Students               1820 non-null   float64\n",
      " 3   Teachers               1820 non-null   float64\n",
      " 4   Schools                1820 non-null   float64\n",
      " 5   Student Teacher Ratio  1820 non-null   float64\n",
      "dtypes: float64(4), int64(1), object(1)\n",
      "memory usage: 99.5+ KB\n"
     ]
    },
    {
     "name": "stderr",
     "output_type": "stream",
     "text": [
      "/var/folders/rh/4xd1337512l1025llqtt0d2h0000gn/T/ipykernel_18853/1174907515.py:6: SettingWithCopyWarning: \n",
      "A value is trying to be set on a copy of a slice from a DataFrame.\n",
      "Try using .loc[row_indexer,col_indexer] = value instead\n",
      "\n",
      "See the caveats in the documentation: https://pandas.pydata.org/pandas-docs/stable/user_guide/indexing.html#returning-a-view-versus-a-copy\n",
      "  ds['Teachers']=ds['Teachers'].astype(float)\n",
      "/var/folders/rh/4xd1337512l1025llqtt0d2h0000gn/T/ipykernel_18853/1174907515.py:7: SettingWithCopyWarning: \n",
      "A value is trying to be set on a copy of a slice from a DataFrame.\n",
      "Try using .loc[row_indexer,col_indexer] = value instead\n",
      "\n",
      "See the caveats in the documentation: https://pandas.pydata.org/pandas-docs/stable/user_guide/indexing.html#returning-a-view-versus-a-copy\n",
      "  ds['Student Teacher Ratio']=ds['Students']/ds['Teachers']\n",
      "/var/folders/rh/4xd1337512l1025llqtt0d2h0000gn/T/ipykernel_18853/1174907515.py:8: SettingWithCopyWarning: \n",
      "A value is trying to be set on a copy of a slice from a DataFrame\n",
      "\n",
      "See the caveats in the documentation: https://pandas.pydata.org/pandas-docs/stable/user_guide/indexing.html#returning-a-view-versus-a-copy\n",
      "  ds.replace([np.inf, -np.inf], 0, inplace=True)\n"
     ]
    }
   ],
   "source": [
    "cols=['NCES District ID','State','Students','Teachers','Schools','Student Teacher Ratio']\n",
    "cols_num=['Students','Teachers','Schools']#,'Student Teacher Ratio']\n",
    "ds=df[cols]\n",
    "ds.loc[ds['Teachers'] =='–', 'Teachers'] = 0\n",
    "ds.loc[ds['Teachers'] =='†', 'Teachers'] = 0\n",
    "ds['Teachers']=ds['Teachers'].astype(float)\n",
    "ds['Student Teacher Ratio']=ds['Students']/ds['Teachers']\n",
    "ds.replace([np.inf, -np.inf], 0, inplace=True)\n",
    "ds.info()"
   ]
  },
  {
   "cell_type": "code",
   "execution_count": 95,
   "id": "99542de9",
   "metadata": {},
   "outputs": [
    {
     "data": {
      "text/html": [
       "<div>\n",
       "<style scoped>\n",
       "    .dataframe tbody tr th:only-of-type {\n",
       "        vertical-align: middle;\n",
       "    }\n",
       "\n",
       "    .dataframe tbody tr th {\n",
       "        vertical-align: top;\n",
       "    }\n",
       "\n",
       "    .dataframe thead th {\n",
       "        text-align: right;\n",
       "    }\n",
       "</style>\n",
       "<table border=\"1\" class=\"dataframe\">\n",
       "  <thead>\n",
       "    <tr style=\"text-align: right;\">\n",
       "      <th></th>\n",
       "      <th>NCES District ID</th>\n",
       "      <th>Students</th>\n",
       "      <th>Teachers</th>\n",
       "      <th>Schools</th>\n",
       "      <th>Student Teacher Ratio</th>\n",
       "    </tr>\n",
       "  </thead>\n",
       "  <tbody>\n",
       "    <tr>\n",
       "      <th>count</th>\n",
       "      <td>1.820000e+03</td>\n",
       "      <td>1820.000000</td>\n",
       "      <td>1820.000000</td>\n",
       "      <td>1820.000000</td>\n",
       "      <td>1820.000000</td>\n",
       "    </tr>\n",
       "    <tr>\n",
       "      <th>mean</th>\n",
       "      <td>2.812920e+06</td>\n",
       "      <td>11913.798901</td>\n",
       "      <td>739.235670</td>\n",
       "      <td>19.587363</td>\n",
       "      <td>16.502124</td>\n",
       "    </tr>\n",
       "    <tr>\n",
       "      <th>std</th>\n",
       "      <td>1.670819e+06</td>\n",
       "      <td>7749.702502</td>\n",
       "      <td>501.881641</td>\n",
       "      <td>13.161848</td>\n",
       "      <td>4.723745</td>\n",
       "    </tr>\n",
       "    <tr>\n",
       "      <th>min</th>\n",
       "      <td>1.000050e+05</td>\n",
       "      <td>5003.000000</td>\n",
       "      <td>0.000000</td>\n",
       "      <td>0.000000</td>\n",
       "      <td>0.000000</td>\n",
       "    </tr>\n",
       "    <tr>\n",
       "      <th>25%</th>\n",
       "      <td>1.201402e+06</td>\n",
       "      <td>6362.750000</td>\n",
       "      <td>413.390000</td>\n",
       "      <td>11.000000</td>\n",
       "      <td>13.765567</td>\n",
       "    </tr>\n",
       "    <tr>\n",
       "      <th>50%</th>\n",
       "      <td>2.903155e+06</td>\n",
       "      <td>9000.500000</td>\n",
       "      <td>564.590000</td>\n",
       "      <td>15.000000</td>\n",
       "      <td>15.572099</td>\n",
       "    </tr>\n",
       "    <tr>\n",
       "      <th>75%</th>\n",
       "      <td>4.216185e+06</td>\n",
       "      <td>14369.000000</td>\n",
       "      <td>890.022500</td>\n",
       "      <td>24.000000</td>\n",
       "      <td>18.681937</td>\n",
       "    </tr>\n",
       "    <tr>\n",
       "      <th>max</th>\n",
       "      <td>7.800030e+06</td>\n",
       "      <td>40876.000000</td>\n",
       "      <td>3172.300000</td>\n",
       "      <td>103.000000</td>\n",
       "      <td>91.097708</td>\n",
       "    </tr>\n",
       "  </tbody>\n",
       "</table>\n",
       "</div>"
      ],
      "text/plain": [
       "       NCES District ID      Students     Teachers      Schools  \\\n",
       "count      1.820000e+03   1820.000000  1820.000000  1820.000000   \n",
       "mean       2.812920e+06  11913.798901   739.235670    19.587363   \n",
       "std        1.670819e+06   7749.702502   501.881641    13.161848   \n",
       "min        1.000050e+05   5003.000000     0.000000     0.000000   \n",
       "25%        1.201402e+06   6362.750000   413.390000    11.000000   \n",
       "50%        2.903155e+06   9000.500000   564.590000    15.000000   \n",
       "75%        4.216185e+06  14369.000000   890.022500    24.000000   \n",
       "max        7.800030e+06  40876.000000  3172.300000   103.000000   \n",
       "\n",
       "       Student Teacher Ratio  \n",
       "count            1820.000000  \n",
       "mean               16.502124  \n",
       "std                 4.723745  \n",
       "min                 0.000000  \n",
       "25%                13.765567  \n",
       "50%                15.572099  \n",
       "75%                18.681937  \n",
       "max                91.097708  "
      ]
     },
     "execution_count": 95,
     "metadata": {},
     "output_type": "execute_result"
    }
   ],
   "source": [
    "ds.describe()"
   ]
  },
  {
   "cell_type": "markdown",
   "id": "eda62e80",
   "metadata": {},
   "source": [
    "# Distributions/Description"
   ]
  },
  {
   "cell_type": "markdown",
   "id": "77b67f2e",
   "metadata": {},
   "source": [
    "## Number of Schools"
   ]
  },
  {
   "cell_type": "code",
   "execution_count": 96,
   "id": "26305d77",
   "metadata": {},
   "outputs": [
    {
     "data": {
      "text/plain": [
       "count    1820.000000\n",
       "mean       19.587363\n",
       "std        13.161848\n",
       "min         0.000000\n",
       "25%        11.000000\n",
       "50%        15.000000\n",
       "75%        24.000000\n",
       "max       103.000000\n",
       "Name: Schools, dtype: float64"
      ]
     },
     "execution_count": 96,
     "metadata": {},
     "output_type": "execute_result"
    },
    {
     "data": {
      "image/png": "[encoded data removed]",
      "text/plain": [
       "<Figure size 640x480 with 1 Axes>"
      ]
     },
     "metadata": {},
     "output_type": "display_data"
    }
   ],
   "source": [
    "ds['Schools'].hist(range=[0,300],bins=20)\n",
    "ds['Schools'].describe()"
   ]
  },
  {
   "cell_type": "markdown",
   "id": "4cd9deb3",
   "metadata": {},
   "source": [
    "## Students"
   ]
  },
  {
   "cell_type": "code",
   "execution_count": 97,
   "id": "aab3182e",
   "metadata": {},
   "outputs": [
    {
     "data": {
      "text/plain": [
       "count     1820.000000\n",
       "mean     11913.798901\n",
       "std       7749.702502\n",
       "min       5003.000000\n",
       "25%       6362.750000\n",
       "50%       9000.500000\n",
       "75%      14369.000000\n",
       "max      40876.000000\n",
       "Name: Students, dtype: float64"
      ]
     },
     "execution_count": 97,
     "metadata": {},
     "output_type": "execute_result"
    },
    {
     "data": {
      "image/png": "[encoded data removed]",
      "text/plain": [
       "<Figure size 640x480 with 1 Axes>"
      ]
     },
     "metadata": {},
     "output_type": "display_data"
    }
   ],
   "source": [
    "ds['Students'].hist(range=[5000,50000],bins=20)\n",
    "ds['Students'].describe()"
   ]
  },
  {
   "cell_type": "markdown",
   "id": "33b75741",
   "metadata": {},
   "source": [
    "## Teachers"
   ]
  },
  {
   "cell_type": "code",
   "execution_count": 98,
   "id": "ef3407fd",
   "metadata": {},
   "outputs": [
    {
     "data": {
      "text/plain": [
       "count    1820.000000\n",
       "mean      739.235670\n",
       "std       501.881641\n",
       "min         0.000000\n",
       "25%       413.390000\n",
       "50%       564.590000\n",
       "75%       890.022500\n",
       "max      3172.300000\n",
       "Name: Teachers, dtype: float64"
      ]
     },
     "execution_count": 98,
     "metadata": {},
     "output_type": "execute_result"
    },
    {
     "data": {
      "image/png": "[encoded data removed]",
      "text/plain": [
       "<Figure size 640x480 with 1 Axes>"
      ]
     },
     "metadata": {},
     "output_type": "display_data"
    }
   ],
   "source": [
    "ds['Teachers'].hist(range=[0,10000],bins=20)\n",
    "ds['Teachers'].describe()"
   ]
  },
  {
   "cell_type": "markdown",
   "id": "3b6fde73",
   "metadata": {},
   "source": [
    "## Student Teacher Ratio"
   ]
  },
  {
   "cell_type": "code",
   "execution_count": 100,
   "id": "9d92bfba",
   "metadata": {},
   "outputs": [
    {
     "data": {
      "text/plain": [
       "count    1820.000000\n",
       "mean       16.502124\n",
       "std         4.723745\n",
       "min         0.000000\n",
       "25%        13.765567\n",
       "50%        15.572099\n",
       "75%        18.681937\n",
       "max        91.097708\n",
       "Name: Student Teacher Ratio, dtype: float64"
      ]
     },
     "execution_count": 100,
     "metadata": {},
     "output_type": "execute_result"
    },
    {
     "data": {
      "image/png": "[encoded data removed]",
      "text/plain": [
       "<Figure size 640x480 with 1 Axes>"
      ]
     },
     "metadata": {},
     "output_type": "display_data"
    }
   ],
   "source": [
    "ds['Student Teacher Ratio'].hist(bins=30)\n",
    "ds['Student Teacher Ratio'].describe()"
   ]
  },
  {
   "cell_type": "code",
   "execution_count": null,
   "id": "41c9ce66",
   "metadata": {},
   "outputs": [],
   "source": []
  }
 ],
 "metadata": {
  "kernelspec": {
   "display_name": "Python 3 (ipykernel)",
   "language": "python",
   "name": "python3"
  },
  "language_info": {
   "codemirror_mode": {
    "name": "ipython",
    "version": 3
   },
   "file_extension": ".py",
   "mimetype": "text/x-python",
   "name": "python",
   "nbconvert_exporter": "python",
   "pygments_lexer": "ipython3",
   "version": "3.9.6"
  },
  "toc": {
   "base_numbering": 1,
   "nav_menu": {},
   "number_sections": true,
   "sideBar": true,
   "skip_h1_title": false,
   "title_cell": "Table of Contents",
   "title_sidebar": "Contents",
   "toc_cell": false,
   "toc_position": {
    "height": "calc(100% - 180px)",
    "left": "10px",
    "top": "150px",
    "width": "449px"
   },
   "toc_section_display": true,
   "toc_window_display": true
  }
 },
 "nbformat": 4,
 "nbformat_minor": 5
}
